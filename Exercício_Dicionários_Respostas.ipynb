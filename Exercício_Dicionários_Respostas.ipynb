{
  "nbformat": 4,
  "nbformat_minor": 0,
  "metadata": {
    "colab": {
      "provenance": [],
      "authorship_tag": "ABX9TyO7NRU/Aa6Fd7C04UquN9OW",
      "include_colab_link": true
    },
    "kernelspec": {
      "name": "python3",
      "display_name": "Python 3"
    },
    "language_info": {
      "name": "python"
    }
  },
  "cells": [
    {
      "cell_type": "markdown",
      "metadata": {
        "id": "view-in-github",
        "colab_type": "text"
      },
      "source": [
        "<a href=\"https://colab.research.google.com/github/lauraemmanuella/prog2/blob/main/Exerc%C3%ADcio_Dicion%C3%A1rios_Respostas.ipynb\" target=\"_parent\"><img src=\"https://colab.research.google.com/assets/colab-badge.svg\" alt=\"Open In Colab\"/></a>"
      ]
    },
    {
      "cell_type": "markdown",
      "source": [
        "**Tabuleiro**: Faça um código para mostrar as casas de um tabuleiro, como no exemplo de execução abaixo:\n",
        "\n",
        "Para ajudar: a lista com os números das casas e o dicionário com os prêmios das casas já estão disponíveis."
      ],
      "metadata": {
        "id": "ifAZa6_N8m7A"
      }
    },
    {
      "cell_type": "code",
      "execution_count": null,
      "metadata": {
        "colab": {
          "base_uri": "https://localhost:8080/"
        },
        "id": "tDmZh41Ys9NZ",
        "outputId": "3f52d78c-0e19-4f3e-be62-32d2240546ca"
      },
      "outputs": [
        {
          "output_type": "stream",
          "name": "stdout",
          "text": [
            "0 Início\n",
            "1 Avance 3 casas\n",
            "2\n",
            "3\n",
            "4\n",
            "5\n",
            "6 Volte 2 casas\n",
            "7\n",
            "8 Avance 2 casas\n",
            "9\n",
            "10 Volte 3 casas\n",
            "11\n",
            "12\n",
            "13 Avance 1 casa\n",
            "14\n",
            "15\n",
            "16\n",
            "17\n",
            "18\n",
            "19 Volte 1 casa\n",
            "20\n",
            "21 Chegada\n"
          ]
        }
      ],
      "source": [
        "casas = [i for i in range(22)]\n",
        "premios = {0: 'Início',\n",
        "          1: 'Avance 3 casas',\n",
        "          6: 'Volte 2 casas',\n",
        "          8: 'Avance 2 casas',\n",
        "          10: 'Volte 3 casas',\n",
        "          13: 'Avance 1 casa',\n",
        "          19: 'Volte 1 casa',\n",
        "          21: 'Chegada' \n",
        "          }\n",
        "\n",
        "for i in casas:\n",
        "  if i in premios:\n",
        "    print(f'{i} {premios[i]}')\n",
        "  else:\n",
        "    print(i)"
      ]
    },
    {
      "cell_type": "markdown",
      "source": [
        "**Jogo dos estados**: Faça um jogo que pergunte ao usuário as capitais dos estados brasileiros, como no exemplo abaixo.\n",
        "\n",
        "Para ajudar o dicionário com estados e capitais e o código que escolhe aleatoriamente já estão disponíveis."
      ],
      "metadata": {
        "id": "63vWwro88-G0"
      }
    },
    {
      "cell_type": "code",
      "source": [
        "import random\n",
        "\n",
        "estados = {\n",
        "    'ACRE': 'Rio Branco',\n",
        "    'ALAGOAS': 'Maceió',\n",
        "    'AMAPÁ': 'Macapá',\n",
        "    'AMAZONAS': 'Manaus',\n",
        "    'BAHIA': 'Salvador',\n",
        "    'CEARÁ': 'Fortaleza',\n",
        "    'ESPÍRITO SANTO': 'Vitória',\n",
        "    'GOIÁS': 'Goiânia',\n",
        "    'MARANHÃO': 'São Luíz',\n",
        "    'MATO GROSSO': 'Cuiabá',\n",
        "    'MATO GROSSO DO SUL': 'Campo Grande',\n",
        "    'MINAS GERAIS': 'Belo Horizonte',\n",
        "    'PARÁ': 'Belém',\n",
        "    'PARAÍBA': 'João Pessoa',\n",
        "    'PARANÁ': 'Curitiba',\n",
        "    'PERNAMBUCO': 'Recife',\n",
        "    'PIAUÍ': 'Teresina',\n",
        "    'RIO DE JANEIRO': 'Rio de Janeiro',\n",
        "    'RIO GRANDE DO NORTE': 'Natal',\n",
        "    'RIO GRANDE DO SUL': 'Porto Alegre',\n",
        "    'RONDÔNIA': 'Porto Velho',\n",
        "    'RORAIMA': 'Boa Vista',\n",
        "    'SANTA CATARINA': 'Florianópolis',\n",
        "    'SÃO PAULO': 'São Paulo',\n",
        "    'SERGIPE': 'Aracaju',\n",
        "    'TOCANTINS': 'Palmas', \n",
        "}\n",
        "\n",
        "t = random.choice(list(estados.items()))\n",
        "print(t)\n",
        "print(t[0])\n",
        "print(t[1])"
      ],
      "metadata": {
        "colab": {
          "base_uri": "https://localhost:8080/"
        },
        "id": "ahYzwwN92J3E",
        "outputId": "b0771d47-3efe-49fe-f9e6-4b9e54c204e4"
      },
      "execution_count": null,
      "outputs": [
        {
          "output_type": "stream",
          "name": "stdout",
          "text": [
            "('CEARÁ', 'Fortaleza')\n",
            "CEARÁ\n",
            "Fortaleza\n"
          ]
        }
      ]
    },
    {
      "cell_type": "code",
      "source": [
        "estados = {\n",
        "    'ACRE': 'Rio Branco',\n",
        "    'ALAGOAS': 'Maceió',\n",
        "    'AMAPÁ': 'Macapá',\n",
        "    'AMAZONAS': 'Manaus',\n",
        "    'BAHIA': 'Salvador',\n",
        "    'CEARÁ': 'Fortaleza',\n",
        "    'ESPÍRITO SANTO': 'Vitória',\n",
        "    'GOIÁS': 'Goiânia',\n",
        "    'MARANHÃO': 'São Luíz',\n",
        "    'MATO GROSSO': 'Cuiabá',\n",
        "    'MATO GROSSO DO SUL': 'Campo Grande',\n",
        "    'MINAS GERAIS': 'Belo Horizonte',\n",
        "    'PARÁ': 'Belém',\n",
        "    'PARAÍBA': 'João Pessoa',\n",
        "    'PARANÁ': 'Curitiba',\n",
        "    'PERNAMBUCO': 'Recife',\n",
        "    'PIAUÍ': 'Teresina',\n",
        "    'RIO DE JANEIRO': 'Rio de Janeiro',\n",
        "    'RIO GRANDE DO NORTE': 'Natal',\n",
        "    'RIO GRANDE DO SUL': 'Porto Alegre',\n",
        "    'RONDÔNIA': 'Porto Velho',\n",
        "    'RORAIMA': 'Boa Vista',\n",
        "    'SANTA CATARINA': 'Florianópolis',\n",
        "    'SÃO PAULO': 'São Paulo',\n",
        "    'SERGIPE': 'Aracaju',\n",
        "    'TOCANTINS': 'Palmas', \n",
        "}\n",
        "\n",
        "acertos = 0\n",
        "tentativas = 0\n",
        "while True:\n",
        "  print('\\nQual a capital do estado abaixo?')\n",
        "  t = random.choice(list(estados.items()))\n",
        "  print(t[0])\n",
        "  print()\n",
        "  resp = input('Sua resposta: ')\n",
        "  tentativas += 1\n",
        "  if resp.upper() == t[1].upper():\n",
        "    acertos += 1\n",
        "    print('\\nParabéns! Você acertou!')\n",
        "  else:\n",
        "    print(f'\\nPrecisa estudar mais! A resposta correta é {t[1]}')\n",
        "  continuar = input('\\nAperte n para sair ou outra tecla para continuar...')\n",
        "  if continuar == 'n':\n",
        "    print(f'\\nSeu percentual de acerto foi: {(acertos/tentativas)*100}%')\n",
        "    break"
      ],
      "metadata": {
        "colab": {
          "base_uri": "https://localhost:8080/"
        },
        "id": "N7OSx6Ki34fe",
        "outputId": "dcde0f13-0e75-44b7-9085-2ae041eb6ed7"
      },
      "execution_count": null,
      "outputs": [
        {
          "output_type": "stream",
          "name": "stdout",
          "text": [
            "\n",
            "Qual a capital do estado abaixo?\n",
            "RIO GRANDE DO SUL\n",
            "\n",
            "Sua resposta: porto alegre\n",
            "\n",
            "Parabéns! Você acertou!\n",
            "\n",
            "Aperte n para sair ou outra tecla para continuar...n\n",
            "\n",
            "Seu percentual de acerto foi: 100.0%\n"
          ]
        }
      ]
    },
    {
      "cell_type": "markdown",
      "source": [
        "**Jogo dos Estados versão 2**: Nosso dicionário agora está maior! Adapte o jogo para que o usuário responda o nome do estado, a capital e sua região. Observe o exemplo de execução."
      ],
      "metadata": {
        "id": "Tqz8J2U7qGWi"
      }
    },
    {
      "cell_type": "code",
      "source": [
        "import random\n",
        "\n",
        "estados = {\n",
        "    'AC': {'estado':'ACRE','capital':'Rio Branco', 'região':'Norte'},\n",
        "    'AL': {'estado':'ALAGOAS','capital':'Maceió', 'região':'Nordeste'},\n",
        "    'AP': {'estado':'AMAPÁ','capital':'Macapá', 'região':'Norte'},\n",
        "    'AM': {'estado':'AMAZONAS','capital':'Manaus', 'região':'Norte'},\n",
        "    'BA': {'estado':'BAHIA','capital':'Salvador', 'região':'Nordeste'},\n",
        "    'CE': {'estado':'CEARÁ','capital':'Fortaleza', 'região':'Nordeste'},\n",
        "    'ES': {'estado':'ESPÍRITO SANTO','capital':'Vitória', 'região':'Sudeste'},\n",
        "    'GO': {'estado':'GOIÁS','capital':'Goiânia', 'região':'Centro-oeste'},\n",
        "    'MA': {'estado':'MARANHÃO','capital':'São Luíz', 'região':'Nordeste'},\n",
        "    'MT': {'estado':'MATO GROSSO','capital':'Cuiabá', 'região':'Centro-oeste'},\n",
        "    'MS': {'estado':'MATO GROSSO DO SUL','capital':'Campo Grande', 'região':'Centro-oeste'},\n",
        "    'MG': {'estado':'MINAS GERAIS','capital':'Belo Horizonte', 'região':'Sudeste'},\n",
        "    'PA': {'estado':'PARÁ','capital':'Belém', 'região':'Norte'},\n",
        "    'PB': {'estado':'PARAÍBA','capital':'João Pessoa', 'região':'Nordeste'},\n",
        "    'PR': {'estado':'PARANÁ','capital':'Curitiba', 'região':'Sul'},\n",
        "    'PE': {'estado':'PERNAMBUCO','capital':'Recife', 'região':'Nordeste'},\n",
        "    'PI': {'estado':'PIAUÍ','capital':'Teresina', 'região':'Nordeste'},\n",
        "    'RJ': {'estado':'RIO DE JANEIRO','capital':'Rio de Janeiro', 'região':'Sudeste'},\n",
        "    'RN': {'estado':'RIO GRANDE DO NORTE','capital':'Natal', 'região':'Nordeste'},\n",
        "    'RS': {'estado':'RIO GRANDE DO SUL','capital':'Porto Alegre', 'região':'Sul'},\n",
        "    'RO': {'estado':'RONDÔNIA','capital':'Porto Velho', 'região':'Norte'},\n",
        "    'RR': {'estado':'RORAIMA','capital':'Boa Vista', 'região':'Norte'},\n",
        "    'SC': {'estado':'SANTA CATARINA','capital':'Florianópolis', 'região':'Sul'},\n",
        "    'SP': {'estado':'SÃO PAULO','capital':'São Paulo', 'região':'Sudeste'},\n",
        "    'SE': {'estado':'SERGIPE','capital':'Aracaju', 'região':'Nordeste'},\n",
        "    'TO': {'estado':'TOCATINS','capital':'Palmas', 'região':'Norte'}\n",
        "}\n",
        "\n",
        "\n",
        "acertos = 0\n",
        "tentativas = 0\n",
        "while True:\n",
        "  t = random.choice(list(estados.items()))\n",
        "  print(f'\\nResponda sobre o estado que tem a sigla {t[0]}...\\n')\n",
        "  for k,v in t[1].items():\n",
        "    resp = input(f'\\n{k.upper()}: ')\n",
        "    tentativas += 1\n",
        "    if resp.upper() == v.upper():\n",
        "      acertos += 1\n",
        "      print('\\nParabéns! Você acertou!')\n",
        "    else:\n",
        "      print(f'\\nPrecisa estudar mais! A resposta correta é {v}')\n",
        "  continuar = input('\\nAperte n para sair ou outra tecla para continuar...')\n",
        "  if continuar == 'n':\n",
        "    print(f'\\nSeu percentual de acerto foi: {(acertos/tentativas)*100:.2f}%')\n",
        "    break"
      ],
      "metadata": {
        "colab": {
          "base_uri": "https://localhost:8080/"
        },
        "id": "XshcWiRbqGe3",
        "outputId": "63ea95f6-403c-45b5-9143-41cdffdfbeaf"
      },
      "execution_count": null,
      "outputs": [
        {
          "output_type": "stream",
          "name": "stdout",
          "text": [
            "\n",
            "Responda sobre o estado que tem a sigla RO...\n",
            "\n",
            "\n",
            "ESTADO: Rondônia\n",
            "\n",
            "Parabéns! Você acertou!\n",
            "\n",
            "CAPITAL: Porto Velho\n",
            "\n",
            "Parabéns! Você acertou!\n",
            "\n",
            "REGIÃO: Norte\n",
            "\n",
            "Parabéns! Você acertou!\n",
            "\n",
            "Aperte n para sair ou outra tecla para continuar...\n",
            "\n",
            "Responda sobre o estado que tem a sigla SC...\n",
            "\n",
            "\n",
            "ESTADO: Santa Catarina, vou errar de propósito :/\n",
            "\n",
            "Precisa estudar mais! A resposta correta é SANTA CATARINA\n",
            "\n",
            "CAPITAL: Florianópolis\n",
            "\n",
            "Parabéns! Você acertou!\n",
            "\n",
            "REGIÃO: Sul\n",
            "\n",
            "Parabéns! Você acertou!\n",
            "\n",
            "Aperte n para sair ou outra tecla para continuar...n\n",
            "\n",
            "Seu percentual de acerto foi: 83.33%\n"
          ]
        }
      ]
    }
  ]
}