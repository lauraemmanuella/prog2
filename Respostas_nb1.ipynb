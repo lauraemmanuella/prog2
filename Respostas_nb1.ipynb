{
  "nbformat": 4,
  "nbformat_minor": 0,
  "metadata": {
    "colab": {
      "provenance": [],
      "collapsed_sections": [],
      "authorship_tag": "ABX9TyOBl+JUqpKpzOM9myGYMtc5",
      "include_colab_link": true
    },
    "kernelspec": {
      "name": "python3",
      "display_name": "Python 3"
    },
    "language_info": {
      "name": "python"
    }
  },
  "cells": [
    {
      "cell_type": "markdown",
      "metadata": {
        "id": "view-in-github",
        "colab_type": "text"
      },
      "source": [
        "<a href=\"https://colab.research.google.com/github/lauraemmanuella/prog2/blob/main/Respostas_nb1.ipynb\" target=\"_parent\"><img src=\"https://colab.research.google.com/assets/colab-badge.svg\" alt=\"Open In Colab\"/></a>"
      ]
    },
    {
      "cell_type": "markdown",
      "source": [
        "## Exercícios Dicionários\n",
        "\n",
        "---\n",
        "\n"
      ],
      "metadata": {
        "id": "w6OeGu4_K8ih"
      }
    },
    {
      "cell_type": "markdown",
      "source": [
        "**Questão 1**: Considere o dict armazem abaixo. Faça um programa que receba o nome do produto e mostre seu preço e estoque. "
      ],
      "metadata": {
        "id": "b3RoFgmCXJVl"
      }
    },
    {
      "cell_type": "code",
      "source": [
        "armazem = {\n",
        "  'ALFACE': [100, 2.25],\n",
        "  'BROCÓLIS': [30, 4.09],\n",
        "  'COUVE': [50, 3.75],\n",
        "  'REPOLHO': [26, 1.25]\n",
        "}"
      ],
      "metadata": {
        "id": "Hs_KHARAdKkS"
      },
      "execution_count": null,
      "outputs": []
    },
    {
      "cell_type": "code",
      "source": [
        "while True:\n",
        "  nome = input('\\nInforme o nome do produto ou fim para encerrar: ').upper()\n",
        "  if nome == 'FIM':\n",
        "    break\n",
        "  elif nome in armazem:\n",
        "    print(f'\\n{nome}')\n",
        "    print(f'Preço: R$ {armazem[nome][0]}')\n",
        "    print(f'Quantidade: {armazem[nome][1]} kg')\n",
        "  else:\n",
        "    print('\\nProduto não encontrado')"
      ],
      "metadata": {
        "colab": {
          "base_uri": "https://localhost:8080/"
        },
        "id": "reRlvl3bK95f",
        "outputId": "1f9ab882-2002-40a9-85b0-8c3a04efa1c3"
      },
      "execution_count": null,
      "outputs": [
        {
          "name": "stdout",
          "output_type": "stream",
          "text": [
            "\n",
            "Informe o nome do produto ou fim para encerrar: couve\n",
            "\n",
            "COUVE\n",
            "Preço: R$ 50\n",
            "Quantidade: 3.75 kg\n",
            "\n",
            "Informe o nome do produto ou fim para encerrar: fim\n"
          ]
        }
      ]
    },
    {
      "cell_type": "markdown",
      "source": [
        "**Questão 2:** Crie um dicionário que armazene ano e sinopse de filmes. Use os nomes dos filmes como chaves. Depois faça um programa que receba do usuário o nome do filme e mostre os dados dele."
      ],
      "metadata": {
        "id": "SyJors0-eFBN"
      }
    },
    {
      "cell_type": "code",
      "source": [
        "filmes = {\n",
        "  'Capitã Marvel': {'ano': 2019, \n",
        "                    'sinopse': 'Em Capitã Marvel, Carol Danvers (Brie Larson) é uma ex-agente da Força Aérea norte-americana que, sem se lembrar de sua vida na Terra, é recrutada pelos Kree para fazer parte de seu exército de elite. Inimiga declarada dos Skrull, ela acaba voltando ao seu planeta de origem para impedir uma invasão dos metaformos, e assim vai acabar descobrindo a verdade sobre si, com a ajuda do agente Nick Fury (Samuel L. Jackson) e da gata Goose.'\n",
        "                    },\n",
        "  'Wanda Vision': {'ano': 2021,\n",
        "                  'sinopse': 'Após os eventos de Vingadores: Ultimato (2019), Wanda Maximoff/Feiticeira Escarlate (Elizabeth Olsen) e Visão (Paul Bettany) se esforçam para levar uma vida normal no subúrbio e esconder seus poderes. Mas a dupla de super-heróis logo começa a suspeitar que nem tudo está tão certo assim. Eles se encontram, na verdade, dentro de uma constante sitcom, que vai desde a década de 50 até os dias de hoje. Conforme o tempo passa, Wanda e Visão perdem o controle da situação, sem saber mais o que é real e o que é ficção. Eles ficam presos em um eterno vai e vem: da Era de Ouro da TV nos EUA, com imagens em preto e branco, ao presente - e vice-versa.'\n",
        "                  },\n",
        "  \n",
        "   'Viúva Negra': {'ano': 2016,\n",
        "                   'sinopse': 'Em Viúva Negra, acompanhamos a vida de Natasha Romanoff (Scarlett Johansson) após os eventos de Guerra Civil. Se escondendo do governo norte-americano devido a sua aliança com o time do Capitão América, Natasha ainda precisa confrontar partes de sua história, que ela tanto evita, quando surge uma conspiração perigosa ligada ao seu passado. Perseguida por uma força que não irá parar até derrotá-la, ela terá que lidar com sua antiga vida de espiã, e também reencontrar membros de sua família que deixou para trás antes de se tornar parte dos Vingadores, e lidar com esses relacionamentos quebrados. Ao reencontrar suas raízes, e deixar de evitar lidar com suas vulnerabilidades e traumas, a heroína poderá encontrar a força que tanto precisa.'\n",
        "                   }       \n",
        "}"
      ],
      "metadata": {
        "id": "aO8aa2vDe7vc"
      },
      "execution_count": null,
      "outputs": []
    },
    {
      "cell_type": "code",
      "source": [
        "while True:\n",
        "  nome = input('\\nInforme o nome do filme ou fim para encerrar: ')\n",
        "  if nome.upper() == 'FIM':\n",
        "    break\n",
        "  elif nome in filmes:\n",
        "    print(f'Ano: {filmes[nome][\"ano\"]}')\n",
        "    print(f'Sinopse: {filmes[nome][\"sinopse\"]}')\n",
        "  else:\n",
        "    print('\\nFilme não encontrado')"
      ],
      "metadata": {
        "colab": {
          "base_uri": "https://localhost:8080/"
        },
        "id": "VFfFL1-agHy1",
        "outputId": "070bd054-a57f-40cc-9a80-0cf988d4ef23"
      },
      "execution_count": null,
      "outputs": [
        {
          "name": "stdout",
          "output_type": "stream",
          "text": [
            "\n",
            "Informe o nome do filme ou fim para encerrar: Wanda Vision\n",
            "Ano: 2021\n",
            "Sinopse: Após os eventos de Vingadores: Ultimato (2019), Wanda Maximoff/Feiticeira Escarlate (Elizabeth Olsen) e Visão (Paul Bettany) se esforçam para levar uma vida normal no subúrbio e esconder seus poderes. Mas a dupla de super-heróis logo começa a suspeitar que nem tudo está tão certo assim. Eles se encontram, na verdade, dentro de uma constante sitcom, que vai desde a década de 50 até os dias de hoje. Conforme o tempo passa, Wanda e Visão perdem o controle da situação, sem saber mais o que é real e o que é ficção. Eles ficam presos em um eterno vai e vem: da Era de Ouro da TV nos EUA, com imagens em preto e branco, ao presente - e vice-versa.\n",
            "\n",
            "Informe o nome do filme ou fim para encerrar: fim\n"
          ]
        }
      ]
    },
    {
      "cell_type": "markdown",
      "source": [
        "**Questão 3:** Considere o dicionário abaixo com um quiz de perguntas e respostas. Crie um programa que faça todas as perguntas para o usuário e calcule a quantidade de respostas corretas."
      ],
      "metadata": {
        "id": "wOdGN8nonUi3"
      }
    },
    {
      "cell_type": "code",
      "source": [
        "perguntas = {\n",
        "        'Pergunta 1': {\n",
        "            'pergunta': 'Quanto é 2+2? ',\n",
        "            'respostas': {\n",
        "                'a': '1',\n",
        "                'b': '4',\n",
        "                'c': '5',\n",
        "            },\n",
        "            'resposta_certa': 'b',\n",
        "        },\n",
        "        'Pergunta 2': {\n",
        "            'pergunta': 'Quanto é 3x2? ',\n",
        "            'respostas': {\n",
        "                'a': '4',\n",
        "                'b': '101',\n",
        "                'c': '6',\n",
        "            },\n",
        "            'resposta_certa': 'c',\n",
        "        },\n",
        "        'Pergunta 3': {\n",
        "            'pergunta': 'Quanto é 6x2? ',\n",
        "            'respostas': {\n",
        "                'a': '4',\n",
        "                'b': '12',\n",
        "                'c': '6',\n",
        "            },\n",
        "            'resposta_certa': 'b',\n",
        "        },\n",
        "        'Pergunta 4': {\n",
        "            'pergunta': 'Quanto é 2+3? ',\n",
        "            'respostas': {\n",
        "                'a': '7',\n",
        "                'b': '5',\n",
        "                'c': '8',\n",
        "            },\n",
        "            'resposta_certa': 'b',\n",
        "        },\n",
        "        'Pergunta 5': {\n",
        "            'pergunta': 'Quanto é 5+13? ',\n",
        "            'respostas': {\n",
        "                'a': '18',\n",
        "                'b': '11',\n",
        "                'c': '8',\n",
        "            },\n",
        "            'resposta_certa': 'a',\n",
        "        },\n",
        "        'Pergunta 6': {\n",
        "            'pergunta': 'Quanto é 7x5? ',\n",
        "            'respostas': {\n",
        "                'a': '35',\n",
        "                'b': '38',\n",
        "                'c': '27',\n",
        "            },\n",
        "            'resposta_certa': 'a',\n",
        "        },\n",
        "        'Pergunta 7': {\n",
        "            'pergunta': 'Quanto é 6x4? ',\n",
        "            'respostas': {\n",
        "                'a': '43',\n",
        "                'b': '31',\n",
        "                'c': '24',\n",
        "            },\n",
        "            'resposta_certa': 'c',\n",
        "        },\n",
        "        'Pergunta 8': {\n",
        "            'pergunta': 'Quanto é 9x9? ',\n",
        "            'respostas': {\n",
        "                'a': '83',\n",
        "                'b': '131',\n",
        "                'c': '81',\n",
        "            },\n",
        "            'resposta_certa': 'c',\n",
        "        },\n",
        "        'Pergunta 9': {\n",
        "            'pergunta': 'Quanto é 4x4? ',\n",
        "            'respostas': {\n",
        "                'a': '16',\n",
        "                'b': '17',\n",
        "                'c': '12',\n",
        "            },\n",
        "            'resposta_certa': 'a',\n",
        "        },\n",
        "        'Pergunta 10': {\n",
        "            'pergunta': 'Quanto é 10x10? ',\n",
        "            'respostas': {\n",
        "                'a': '400',\n",
        "                'b': '100',\n",
        "                'c': '110',\n",
        "            },\n",
        "            'resposta_certa': 'b',\n",
        "        },\n",
        "    }"
      ],
      "metadata": {
        "id": "DzRQKk6onUvj"
      },
      "execution_count": 2,
      "outputs": []
    },
    {
      "cell_type": "code",
      "source": [
        "print('\\nQuiz perguntas e respostas!\\n')\n",
        "acertos = 0\n",
        "for k, v in perguntas.items():\n",
        "  print(k)\n",
        "  print(v['pergunta'])\n",
        "  for k1, v1 in v['respostas'].items():\n",
        "    print(f'{k1}: {v1}')\n",
        "  resp = input('Sua resposta: ').lower()\n",
        "  if resp == v['resposta_certa']:\n",
        "    print('\\nVocê acertou!')\n",
        "    acertos += 1\n",
        "  else:\n",
        "    print('\\nVocê errou!!')\n",
        "print(f'\\nVocê acertou {acertos} respostas')\n",
        "percentual = (acertos / len(perguntas)) * 100\n",
        "print(f'Sua porcentagem de acerto foi {percentual}%.')"
      ],
      "metadata": {
        "colab": {
          "base_uri": "https://localhost:8080/"
        },
        "id": "LyFUJ2Jnn2wI",
        "outputId": "da7a6878-9678-417f-b37a-e8402c896551"
      },
      "execution_count": 4,
      "outputs": [
        {
          "output_type": "stream",
          "name": "stdout",
          "text": [
            "\n",
            "Quiz perguntas e respostas!\n",
            "\n",
            "Pergunta 1\n",
            "Quanto é 2+2? \n",
            "a: 1\n",
            "b: 4\n",
            "c: 5\n",
            "Sua resposta: b\n",
            "\n",
            "Você acertou!\n",
            "Pergunta 2\n",
            "Quanto é 3x2? \n",
            "a: 4\n",
            "b: 101\n",
            "c: 6\n",
            "Sua resposta: c\n",
            "\n",
            "Você acertou!\n",
            "Pergunta 3\n",
            "Quanto é 6x2? \n",
            "a: 4\n",
            "b: 12\n",
            "c: 6\n",
            "Sua resposta: b\n",
            "\n",
            "Você acertou!\n",
            "Pergunta 4\n",
            "Quanto é 2+3? \n",
            "a: 7\n",
            "b: 5\n",
            "c: 8\n",
            "Sua resposta: b\n",
            "\n",
            "Você acertou!\n",
            "Pergunta 5\n",
            "Quanto é 5+13? \n",
            "a: 18\n",
            "b: 11\n",
            "c: 8\n",
            "Sua resposta: c\n",
            "\n",
            "Você errou!!\n",
            "Pergunta 6\n",
            "Quanto é 7x5? \n",
            "a: 35\n",
            "b: 38\n",
            "c: 27\n",
            "Sua resposta: a\n",
            "\n",
            "Você acertou!\n",
            "Pergunta 7\n",
            "Quanto é 6x4? \n",
            "a: 43\n",
            "b: 31\n",
            "c: 24\n",
            "Sua resposta: c\n",
            "\n",
            "Você acertou!\n",
            "Pergunta 8\n",
            "Quanto é 9x9? \n",
            "a: 83\n",
            "b: 131\n",
            "c: 81\n",
            "Sua resposta: c\n",
            "\n",
            "Você acertou!\n",
            "Pergunta 9\n",
            "Quanto é 4x4? \n",
            "a: 16\n",
            "b: 17\n",
            "c: 12\n",
            "Sua resposta: a\n",
            "\n",
            "Você acertou!\n",
            "Pergunta 10\n",
            "Quanto é 10x10? \n",
            "a: 400\n",
            "b: 100\n",
            "c: 110\n",
            "Sua resposta: a\n",
            "\n",
            "Você errou!!\n",
            "\n",
            "Você acertou 8 respostas\n",
            "Sua porcentagem de acerto foi 80.0%.\n"
          ]
        }
      ]
    }
  ]
}