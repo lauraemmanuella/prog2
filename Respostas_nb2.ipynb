{
  "nbformat": 4,
  "nbformat_minor": 0,
  "metadata": {
    "colab": {
      "provenance": [],
      "collapsed_sections": [],
      "authorship_tag": "ABX9TyNULy2AR2adF6FBCd6LD98N",
      "include_colab_link": true
    },
    "kernelspec": {
      "name": "python3",
      "display_name": "Python 3"
    },
    "language_info": {
      "name": "python"
    }
  },
  "cells": [
    {
      "cell_type": "markdown",
      "metadata": {
        "id": "view-in-github",
        "colab_type": "text"
      },
      "source": [
        "<a href=\"https://colab.research.google.com/github/lauraemmanuella/prog2/blob/main/Respostas_nb2.ipynb\" target=\"_parent\"><img src=\"https://colab.research.google.com/assets/colab-badge.svg\" alt=\"Open In Colab\"/></a>"
      ]
    },
    {
      "cell_type": "markdown",
      "source": [
        "## Exercício Exceção\n",
        "\n",
        "---\n",
        "\n",
        "\n",
        "\n"
      ],
      "metadata": {
        "id": "gokeiuLR4JkD"
      }
    },
    {
      "cell_type": "markdown",
      "source": [
        "**Questão 1:** Crie um dicionário para guardar uma agenda de clientes onde a chave será o cpf do cliente e o valor será um outro dicionário contendo os campos: nome, telefone e email. Faça um **programa modularizado** para gerenciar essa agenda com as opções:\n",
        "\n",
        "1. Cadastrar cliente\n",
        "2. Buscar Cliente\n",
        "3. Atualizar Cliente\n",
        "4. Remover Cliente\n",
        "5. Sair\n",
        "\n",
        "Use tratamento de exceção para evitar que o programa pare caso o usuário digite uma string como opção de entrada."
      ],
      "metadata": {
        "id": "crClWLRMyk-j"
      }
    },
    {
      "cell_type": "code",
      "source": [
        "clientes = {}\n",
        "\n",
        "def cadastrar(cpf):\n",
        "  nome = input('\\nNome: ')\n",
        "  telefone = input('Telefone: ')\n",
        "  email = input('Email: ')\n",
        "  clientes[cpf] = {'nome': nome, 'telefone': telefone, 'email': email}\n",
        "\n",
        "def buscar(cpf):\n",
        "  if cpf in clientes:\n",
        "    print(f'\\nNome: {clientes[cpf][\"nome\"]}')\n",
        "    print(f'Telefone: {clientes[cpf][\"telefone\"]}')\n",
        "    print(f'Email: {clientes[cpf][\"email\"]}')\n",
        "  else:\n",
        "    print('\\nCPF não encontrado')\n",
        "\n",
        "def atualizar(cpf):\n",
        "  if cpf in clientes:\n",
        "    cadastrar(cpf)\n",
        "  else:\n",
        "    print('\\nCPF não encontrado')\n",
        "\n",
        "def remover(cpf):\n",
        "  if cpf in clientes:\n",
        "    del clientes[cpf]\n",
        "  else:\n",
        "    print('\\nCPF não encontrado')\n",
        "\n",
        "def menu():\n",
        "  while True:\n",
        "    print('\\n1-Cadastrar Cliente')\n",
        "    print('2-Buscar Cliente')\n",
        "    print('3-Atualizar Cliente')\n",
        "    print('4-Remover Cliente')\n",
        "    print('5-Sair')\n",
        "    try:\n",
        "      opcao = int(input())\n",
        "    except:\n",
        "      print('\\nEntrada deve ser um número inteiro entre 1 e 5')\n",
        "    else:\n",
        "      if opcao == 5:\n",
        "        break\n",
        "      cpf = input('CPF: ')\n",
        "      if opcao == 1:\n",
        "        cadastrar(cpf)\n",
        "      elif opcao == 2:\n",
        "        buscar(cpf)\n",
        "      elif opcao == 3:\n",
        "        atualizar(cpf)\n",
        "      elif opcao == 4:\n",
        "        remover(cpf)\n",
        "\n",
        "\n",
        "menu()"
      ],
      "metadata": {
        "colab": {
          "base_uri": "https://localhost:8080/"
        },
        "id": "TglS4pJKzY11",
        "outputId": "7b157c3d-4a63-4f2d-c28c-665744557326"
      },
      "execution_count": null,
      "outputs": [
        {
          "name": "stdout",
          "output_type": "stream",
          "text": [
            "\n",
            "1-Cadastrar Cliente\n",
            "2-Buscar Cliente\n",
            "3-Atualizar Cliente\n",
            "4-Remover Cliente\n",
            "5-Sair\n",
            "a\n",
            "\n",
            "Entrada deve ser um número inteiro entre 1 e 5\n",
            "\n",
            "1-Cadastrar Cliente\n",
            "2-Buscar Cliente\n",
            "3-Atualizar Cliente\n",
            "4-Remover Cliente\n",
            "5-Sair\n",
            "1\n",
            "CPF: 001002003-40\n",
            "\n",
            "Nome: Maria\n",
            "Telefone: 998877\n",
            "Email: maria@email.com\n",
            "\n",
            "1-Cadastrar Cliente\n",
            "2-Buscar Cliente\n",
            "3-Atualizar Cliente\n",
            "4-Remover Cliente\n",
            "5-Sair\n",
            "2\n",
            "CPF: 001002003-40\n",
            "\n",
            "Nome: Maria\n",
            "Telefone: 998877\n",
            "Email: maria@email.com\n",
            "\n",
            "1-Cadastrar Cliente\n",
            "2-Buscar Cliente\n",
            "3-Atualizar Cliente\n",
            "4-Remover Cliente\n",
            "5-Sair\n",
            "3\n",
            "CPF: 001002003-40\n",
            "\n",
            "Nome: Maria da Silva\n",
            "Telefone: (22) 99887766\n",
            "Email: mariasilva@email.com\n",
            "\n",
            "1-Cadastrar Cliente\n",
            "2-Buscar Cliente\n",
            "3-Atualizar Cliente\n",
            "4-Remover Cliente\n",
            "5-Sair\n",
            "4\n",
            "CPF: 001002003-40\n",
            "\n",
            "1-Cadastrar Cliente\n",
            "2-Buscar Cliente\n",
            "3-Atualizar Cliente\n",
            "4-Remover Cliente\n",
            "5-Sair\n",
            "2\n",
            "CPF: 001002003-40\n",
            "\n",
            "CPF não encontrado\n",
            "\n",
            "1-Cadastrar Cliente\n",
            "2-Buscar Cliente\n",
            "3-Atualizar Cliente\n",
            "4-Remover Cliente\n",
            "5-Sair\n",
            "5\n"
          ]
        }
      ]
    }
  ]
}