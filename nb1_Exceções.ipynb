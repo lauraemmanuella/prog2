{
  "nbformat": 4,
  "nbformat_minor": 0,
  "metadata": {
    "colab": {
      "provenance": [],
      "collapsed_sections": [],
      "authorship_tag": "ABX9TyNT0Igmr19Bbo6BqZH+Y5GH",
      "include_colab_link": true
    },
    "kernelspec": {
      "name": "python3",
      "display_name": "Python 3"
    }
  },
  "cells": [
    {
      "cell_type": "markdown",
      "metadata": {
        "id": "view-in-github",
        "colab_type": "text"
      },
      "source": [
        "<a href=\"https://colab.research.google.com/github/lauraemmanuella/prog2/blob/main/nb2_Exce%C3%A7%C3%B5es.ipynb\" target=\"_parent\"><img src=\"https://colab.research.google.com/assets/colab-badge.svg\" alt=\"Open In Colab\"/></a>"
      ]
    },
    {
      "cell_type": "markdown",
      "source": [
        "\n",
        "# Exceções\n",
        "\n",
        "\n",
        "---\n",
        "\n",
        "O que vamos ver aqui?\n",
        "\n",
        "1. O que são exceções\n",
        "2. Tratamento de exceções\n",
        "3. Exercícios"
      ],
      "metadata": {
        "id": "qJllxRXa1tyD"
      }
    },
    {
      "cell_type": "markdown",
      "source": [
        "## O que são exceções?\n",
        "\n",
        "\n",
        "> Exceção é uma **falha na execução de uma instrução** e pode ser evitada por codificação adequada ou pode ser contornada por tratamento de exceções (**que evita que o programa pare sua execução**)\n",
        "\n",
        "**Se a exceção não é prevista e tratada pelo programador, o programa termina com uma mensagem de erro**\n",
        "\n",
        "> Ver mais em: https://docs.python.org/pt-br/3/tutorial/errors.html\n",
        "\n",
        "\n",
        "No exemplo abaixo temos uma divisão entre 2 números lidos do usuário:"
      ],
      "metadata": {
        "id": "N8y8xLaZ1kuI"
      }
    },
    {
      "cell_type": "code",
      "source": [
        "def divisao():\n",
        "  num1 = float(input('Informe o primeiro número: '))\n",
        "  num2 = float(input('Informe o segundo número: '))\n",
        "  res = num1 / num2\n",
        "\n",
        "  print(f'{num1} / {num2} = {res}')"
      ],
      "metadata": {
        "id": "HgQPoyjzh3cP"
      },
      "execution_count": null,
      "outputs": []
    },
    {
      "cell_type": "code",
      "metadata": {
        "id": "X6pVvRMHc4Yh",
        "outputId": "7c2e5d06-568d-4d95-ac73-2dc01dff645f",
        "colab": {
          "base_uri": "https://localhost:8080/"
        }
      },
      "source": [
        "divisao()"
      ],
      "execution_count": null,
      "outputs": [
        {
          "output_type": "stream",
          "name": "stdout",
          "text": [
            "Informe o primeiro número: 2\n",
            "Informe o segundo número: 4\n",
            "2.0 / 4.0 = 0.5\n"
          ]
        }
      ]
    },
    {
      "cell_type": "markdown",
      "source": [
        "> No entanto, se ao invés de informar um número, o usuário digitar uma letra, o programa irá finalizar com uma mensagem de erro"
      ],
      "metadata": {
        "id": "PdY9hUC82Kg_"
      }
    },
    {
      "cell_type": "code",
      "source": [
        "divisao()"
      ],
      "metadata": {
        "colab": {
          "base_uri": "https://localhost:8080/",
          "height": 347
        },
        "id": "wsHpBLI52Sdc",
        "outputId": "c5239d6e-03b3-49dd-9a47-a0d625a5d96a"
      },
      "execution_count": null,
      "outputs": [
        {
          "name": "stdout",
          "output_type": "stream",
          "text": [
            "Informe o primeiro número: a\n"
          ]
        },
        {
          "output_type": "error",
          "ename": "ValueError",
          "evalue": "ignored",
          "traceback": [
            "\u001b[0;31m---------------------------------------------------------------------------\u001b[0m",
            "\u001b[0;31mValueError\u001b[0m                                Traceback (most recent call last)",
            "\u001b[0;32m<ipython-input-1-2bd591b03880>\u001b[0m in \u001b[0;36m<module>\u001b[0;34m()\u001b[0m\n\u001b[1;32m      7\u001b[0m \u001b[0;34m\u001b[0m\u001b[0m\n\u001b[1;32m      8\u001b[0m \u001b[0;34m\u001b[0m\u001b[0m\n\u001b[0;32m----> 9\u001b[0;31m \u001b[0mdivisao\u001b[0m\u001b[0;34m(\u001b[0m\u001b[0;34m)\u001b[0m\u001b[0;34m\u001b[0m\u001b[0;34m\u001b[0m\u001b[0m\n\u001b[0m",
            "\u001b[0;32m<ipython-input-1-2bd591b03880>\u001b[0m in \u001b[0;36mdivisao\u001b[0;34m()\u001b[0m\n\u001b[1;32m      1\u001b[0m \u001b[0;32mdef\u001b[0m \u001b[0mdivisao\u001b[0m\u001b[0;34m(\u001b[0m\u001b[0;34m)\u001b[0m\u001b[0;34m:\u001b[0m\u001b[0;34m\u001b[0m\u001b[0;34m\u001b[0m\u001b[0m\n\u001b[0;32m----> 2\u001b[0;31m   \u001b[0mnum1\u001b[0m \u001b[0;34m=\u001b[0m \u001b[0mfloat\u001b[0m\u001b[0;34m(\u001b[0m\u001b[0minput\u001b[0m\u001b[0;34m(\u001b[0m\u001b[0;34m'Informe o primeiro número: '\u001b[0m\u001b[0;34m)\u001b[0m\u001b[0;34m)\u001b[0m\u001b[0;34m\u001b[0m\u001b[0;34m\u001b[0m\u001b[0m\n\u001b[0m\u001b[1;32m      3\u001b[0m   \u001b[0mnum2\u001b[0m \u001b[0;34m=\u001b[0m \u001b[0mfloat\u001b[0m\u001b[0;34m(\u001b[0m\u001b[0minput\u001b[0m\u001b[0;34m(\u001b[0m\u001b[0;34m'Informe o segundo número: '\u001b[0m\u001b[0;34m)\u001b[0m\u001b[0;34m)\u001b[0m\u001b[0;34m\u001b[0m\u001b[0;34m\u001b[0m\u001b[0m\n\u001b[1;32m      4\u001b[0m   \u001b[0mres\u001b[0m \u001b[0;34m=\u001b[0m \u001b[0mnum1\u001b[0m \u001b[0;34m/\u001b[0m \u001b[0mnum2\u001b[0m\u001b[0;34m\u001b[0m\u001b[0;34m\u001b[0m\u001b[0m\n\u001b[1;32m      5\u001b[0m \u001b[0;34m\u001b[0m\u001b[0m\n",
            "\u001b[0;31mValueError\u001b[0m: could not convert string to float: 'a'"
          ]
        }
      ]
    },
    {
      "cell_type": "markdown",
      "source": [
        "> Ou se o usuário digitar 0 para o segundo número, outro erro irá aparecer"
      ],
      "metadata": {
        "id": "HVVLGuii2Srv"
      }
    },
    {
      "cell_type": "code",
      "source": [
        "divisao()"
      ],
      "metadata": {
        "colab": {
          "base_uri": "https://localhost:8080/",
          "height": 329
        },
        "id": "bhdzt73c2UYW",
        "outputId": "c1f1403f-0f8d-4a39-cc02-ad10f9fa7b57"
      },
      "execution_count": null,
      "outputs": [
        {
          "name": "stdout",
          "output_type": "stream",
          "text": [
            "Informe o primeiro número: 2\n",
            "Informe o segundo número: 0\n"
          ]
        },
        {
          "output_type": "error",
          "ename": "ZeroDivisionError",
          "evalue": "ignored",
          "traceback": [
            "\u001b[0;31m---------------------------------------------------------------------------\u001b[0m",
            "\u001b[0;31mZeroDivisionError\u001b[0m                         Traceback (most recent call last)",
            "\u001b[0;32m<ipython-input-2-36f9807b28f0>\u001b[0m in \u001b[0;36m<module>\u001b[0;34m()\u001b[0m\n\u001b[0;32m----> 1\u001b[0;31m \u001b[0mdivisao\u001b[0m\u001b[0;34m(\u001b[0m\u001b[0;34m)\u001b[0m\u001b[0;34m\u001b[0m\u001b[0;34m\u001b[0m\u001b[0m\n\u001b[0m",
            "\u001b[0;32m<ipython-input-1-2bd591b03880>\u001b[0m in \u001b[0;36mdivisao\u001b[0;34m()\u001b[0m\n\u001b[1;32m      2\u001b[0m   \u001b[0mnum1\u001b[0m \u001b[0;34m=\u001b[0m \u001b[0mfloat\u001b[0m\u001b[0;34m(\u001b[0m\u001b[0minput\u001b[0m\u001b[0;34m(\u001b[0m\u001b[0;34m'Informe o primeiro número: '\u001b[0m\u001b[0;34m)\u001b[0m\u001b[0;34m)\u001b[0m\u001b[0;34m\u001b[0m\u001b[0;34m\u001b[0m\u001b[0m\n\u001b[1;32m      3\u001b[0m   \u001b[0mnum2\u001b[0m \u001b[0;34m=\u001b[0m \u001b[0mfloat\u001b[0m\u001b[0;34m(\u001b[0m\u001b[0minput\u001b[0m\u001b[0;34m(\u001b[0m\u001b[0;34m'Informe o segundo número: '\u001b[0m\u001b[0;34m)\u001b[0m\u001b[0;34m)\u001b[0m\u001b[0;34m\u001b[0m\u001b[0;34m\u001b[0m\u001b[0m\n\u001b[0;32m----> 4\u001b[0;31m   \u001b[0mres\u001b[0m \u001b[0;34m=\u001b[0m \u001b[0mnum1\u001b[0m \u001b[0;34m/\u001b[0m \u001b[0mnum2\u001b[0m\u001b[0;34m\u001b[0m\u001b[0;34m\u001b[0m\u001b[0m\n\u001b[0m\u001b[1;32m      5\u001b[0m \u001b[0;34m\u001b[0m\u001b[0m\n\u001b[1;32m      6\u001b[0m   \u001b[0mprint\u001b[0m\u001b[0;34m(\u001b[0m\u001b[0;34mf'{num1} / {num2} = {res}'\u001b[0m\u001b[0;34m)\u001b[0m\u001b[0;34m\u001b[0m\u001b[0;34m\u001b[0m\u001b[0m\n",
            "\u001b[0;31mZeroDivisionError\u001b[0m: float division by zero"
          ]
        }
      ]
    },
    {
      "cell_type": "markdown",
      "metadata": {
        "id": "EDmhN8C_g8kH"
      },
      "source": [
        "## Tratando as exceções\n",
        "\n",
        "> O programador pode prever algumas dessas possibilidades de exceção e tratar o código para evitar que o programa pare\n",
        "\n",
        "Para tratar possíveis exceções, o que precisamos fazer é colocar o bloco de comandos que pode gerar a exceção dentro de um bloco `try` e colocar o que fazer caso isso ocorra em um bloco `except`\n",
        "\n",
        "```\n",
        "try:\n",
        " \t# Código que pode apresentar exceção\n",
        "except:\n",
        " \t# O que fazer se ocorrer a exceção\n",
        "else:\n",
        "\t#BLOCO OPCIONAL. É executado apenas quando não ocorre exceção.\n",
        "finally:\n",
        "\t#BLOCO OPCIONAL. Sempre é executado, mesmo quando tem um break ou return no else.\n",
        "```\n",
        "\n"
      ]
    },
    {
      "cell_type": "code",
      "source": [
        "def divisao():\n",
        "  while True:\n",
        "    try:\n",
        "      num1 = float(input('Informe o primeiro número: '))\n",
        "      num2 = float(input('Informe o segundo número: ')) \n",
        "      res = num1 / num2\n",
        "    except:\n",
        "      print('Ocorreu um erro! Tente novamente')\n",
        "    else:\n",
        "      print(f'{num1} / {num2} = {res}')\n",
        "      break\n",
        "    finally:\n",
        "      print('Concluindo processo\\n') #nesse caso não faz diferença, é só para ilustrar\n",
        "\n",
        "divisao()"
      ],
      "metadata": {
        "colab": {
          "base_uri": "https://localhost:8080/"
        },
        "id": "fuC-npmotZVr",
        "outputId": "ce79591b-a535-46c9-8ba0-f12261bc54cf"
      },
      "execution_count": null,
      "outputs": [
        {
          "output_type": "stream",
          "name": "stdout",
          "text": [
            "Informe o primeiro número: a\n",
            "Ocorreu um erro! Tente novamente\n",
            "Concluindo processo\n",
            "\n",
            "Informe o primeiro número: 12\n",
            "Informe o segundo número: 0\n",
            "Ocorreu um erro! Tente novamente\n",
            "Concluindo processo\n",
            "\n",
            "Informe o primeiro número: 12\n",
            "Informe o segundo número: 3\n",
            "12.0 / 3.0 = 4.0\n",
            "Concluindo processo\n",
            "\n"
          ]
        }
      ]
    },
    {
      "cell_type": "markdown",
      "source": [
        "> Podemos mostrar a mensagem do erro para o usuário. Para isso precisamos fazer uma alteração no código:"
      ],
      "metadata": {
        "id": "yfA4Q-XbvO88"
      }
    },
    {
      "cell_type": "code",
      "metadata": {
        "id": "DIm5cnCRg7B7",
        "outputId": "9fdc5c62-2c2e-481e-c019-f76b8118598c",
        "colab": {
          "base_uri": "https://localhost:8080/"
        }
      },
      "source": [
        "def divisao():\n",
        "  while True:\n",
        "    try:\n",
        "      num1 = float(input('Informe o primeiro número: '))\n",
        "      num2 = float(input('Informe o segundo número: ')) \n",
        "      res = num1 / num2\n",
        "    except Exception as e: #aqui criamos uma referência para a exceção (variável e)\n",
        "      print(f'Ocorreu um erro! Tente novamente\\n{e}\\n')\n",
        "    else:\n",
        "      print(f'{num1} / {num2} = {res}\\n')\n",
        "      break\n",
        "    finally:\n",
        "      print('Concluindo processo\\n') #nesse caso não faz diferença, é só para ilustrar\n",
        "\n",
        "divisao()"
      ],
      "execution_count": null,
      "outputs": [
        {
          "output_type": "stream",
          "name": "stdout",
          "text": [
            "Informe o primeiro número: a\n",
            "Ocorreu um erro! Tente novamente\n",
            "could not convert string to float: 'a'\n",
            "\n",
            "Concluindo processo\n",
            "\n",
            "Informe o primeiro número: 12\n",
            "Informe o segundo número: 0\n",
            "Ocorreu um erro! Tente novamente\n",
            "float division by zero\n",
            "\n",
            "Concluindo processo\n",
            "\n",
            "Informe o primeiro número: 12\n",
            "Informe o segundo número: 4\n",
            "12.0 / 4.0 = 3.0\n",
            "\n",
            "Concluindo processo\n",
            "\n"
          ]
        }
      ]
    },
    {
      "cell_type": "markdown",
      "metadata": {
        "id": "SP5l5XdDjV3t"
      },
      "source": [
        "> Por fim, podemos diferenciar os tipos de exceção, informando o nome exato de cada uma:"
      ]
    },
    {
      "cell_type": "code",
      "metadata": {
        "id": "EN0OLsgKjQnq",
        "outputId": "5e913059-bd7c-49b4-8832-cce153efbd01",
        "colab": {
          "base_uri": "https://localhost:8080/"
        }
      },
      "source": [
        "def divisao():\n",
        "  while True:\n",
        "    try:\n",
        "      num1 = float(input('Informe o primeiro número: '))\n",
        "      num2 = float(input('Informe o segundo número: ')) \n",
        "      res = num1 / num2\n",
        "    except ValueError: \n",
        "      print(f'A entrada deve ser um número! Tente novamente\\n')\n",
        "    except ZeroDivisionError: \n",
        "      print(f'Não pode dividir por 0! Tente novamente\\n')\n",
        "    else:\n",
        "      print(f'{num1} / {num2} = {res}\\n')\n",
        "      break\n",
        "    finally:\n",
        "      print('Concluindo processo\\n') #nesse caso não faz diferença, é só para ilustrar\n",
        "\n",
        "divisao()"
      ],
      "execution_count": null,
      "outputs": [
        {
          "output_type": "stream",
          "name": "stdout",
          "text": [
            "Informe o primeiro número: a\n",
            "A entrada deve ser um número! Tente novamente\n",
            "\n",
            "Concluindo processo\n",
            "\n",
            "Informe o primeiro número: 12\n",
            "Informe o segundo número: 0\n",
            "Não pode dividir por 0! Tente novamente\n",
            "\n",
            "Concluindo processo\n",
            "\n",
            "Informe o primeiro número: 12\n",
            "Informe o segundo número: 3\n",
            "12.0 / 3.0 = 4.0\n",
            "\n",
            "Concluindo processo\n",
            "\n"
          ]
        }
      ]
    },
    {
      "cell_type": "markdown",
      "source": [
        "## Exercício\n",
        "\n"
      ],
      "metadata": {
        "id": "gokeiuLR4JkD"
      }
    },
    {
      "cell_type": "markdown",
      "source": [
        "**Questão 1:** Crie um dicionário para guardar uma agenda de clientes onde a chave será o cpf do cliente e o valor será um outro dicionário contendo os campos: nome, telefone e email. Faça um **programa modularizado** para gerenciar essa agenda com as opções:\n",
        "\n",
        "1. Cadastrar cliente\n",
        "2. Buscar Cliente\n",
        "3. Atualizar Cliente\n",
        "4. Remover Cliente\n",
        "5. Sair\n",
        "\n",
        "Use tratamento de exceção para evitar que o programa pare caso o usuário digite uma string como opção de entrada."
      ],
      "metadata": {
        "id": "crClWLRMyk-j"
      }
    },
    {
      "cell_type": "code",
      "source": [
        "#Seu código aqui"
      ],
      "metadata": {
        "id": "Px1M8P253fp8"
      },
      "execution_count": null,
      "outputs": []
    },
    {
      "cell_type": "code",
      "source": [
        "#Exemplo de execução"
      ],
      "metadata": {
        "colab": {
          "base_uri": "https://localhost:8080/"
        },
        "id": "TglS4pJKzY11",
        "outputId": "7b157c3d-4a63-4f2d-c28c-665744557326"
      },
      "execution_count": null,
      "outputs": [
        {
          "name": "stdout",
          "output_type": "stream",
          "text": [
            "\n",
            "1-Cadastrar Cliente\n",
            "2-Buscar Cliente\n",
            "3-Atualizar Cliente\n",
            "4-Remover Cliente\n",
            "5-Sair\n",
            "a\n",
            "\n",
            "Entrada deve ser um número inteiro entre 1 e 5\n",
            "\n",
            "1-Cadastrar Cliente\n",
            "2-Buscar Cliente\n",
            "3-Atualizar Cliente\n",
            "4-Remover Cliente\n",
            "5-Sair\n",
            "1\n",
            "CPF: 001002003-40\n",
            "\n",
            "Nome: Maria\n",
            "Telefone: 998877\n",
            "Email: maria@email.com\n",
            "\n",
            "1-Cadastrar Cliente\n",
            "2-Buscar Cliente\n",
            "3-Atualizar Cliente\n",
            "4-Remover Cliente\n",
            "5-Sair\n",
            "2\n",
            "CPF: 001002003-40\n",
            "\n",
            "Nome: Maria\n",
            "Telefone: 998877\n",
            "Email: maria@email.com\n",
            "\n",
            "1-Cadastrar Cliente\n",
            "2-Buscar Cliente\n",
            "3-Atualizar Cliente\n",
            "4-Remover Cliente\n",
            "5-Sair\n",
            "3\n",
            "CPF: 001002003-40\n",
            "\n",
            "Nome: Maria da Silva\n",
            "Telefone: (22) 99887766\n",
            "Email: mariasilva@email.com\n",
            "\n",
            "1-Cadastrar Cliente\n",
            "2-Buscar Cliente\n",
            "3-Atualizar Cliente\n",
            "4-Remover Cliente\n",
            "5-Sair\n",
            "4\n",
            "CPF: 001002003-40\n",
            "\n",
            "1-Cadastrar Cliente\n",
            "2-Buscar Cliente\n",
            "3-Atualizar Cliente\n",
            "4-Remover Cliente\n",
            "5-Sair\n",
            "2\n",
            "CPF: 001002003-40\n",
            "\n",
            "CPF não encontrado\n",
            "\n",
            "1-Cadastrar Cliente\n",
            "2-Buscar Cliente\n",
            "3-Atualizar Cliente\n",
            "4-Remover Cliente\n",
            "5-Sair\n",
            "5\n"
          ]
        }
      ]
    }
  ]
}
