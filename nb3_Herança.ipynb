{
  "nbformat": 4,
  "nbformat_minor": 0,
  "metadata": {
    "colab": {
      "provenance": [],
      "authorship_tag": "ABX9TyMSioDbScm2rUVJ82iOHnZG",
      "include_colab_link": true
    },
    "kernelspec": {
      "name": "python3",
      "display_name": "Python 3"
    },
    "language_info": {
      "name": "python"
    }
  },
  "cells": [
    {
      "cell_type": "markdown",
      "metadata": {
        "id": "view-in-github",
        "colab_type": "text"
      },
      "source": [
        "<a href=\"https://colab.research.google.com/github/lauraemmanuella/prog2/blob/main/nb4_Heran%C3%A7a.ipynb\" target=\"_parent\"><img src=\"https://colab.research.google.com/assets/colab-badge.svg\" alt=\"Open In Colab\"/></a>"
      ]
    },
    {
      "cell_type": "markdown",
      "source": [
        "# Herança\n",
        "\n",
        "Quando precisamos definir uma classe que possui características e funcionalidades parecidas com outra classe já implementada, podemos reaproveitar o código já escrito e adicionar outras características e funcionalidades específicas da nova classe\n",
        "\n",
        "**Esse processo é chamado de herança**\n",
        "\n",
        "> Quer dizer que a nova classe HERDA o código da classe já definida e ESTENDE seu código para adicionar novas características e funcionalidades específicas\n",
        "\n",
        "\n",
        "* A classe originária é chamada de MÃE ou SUPERCLASSE ou classe BASE \n",
        "* A classe construída a partir da outra é chamada de FILHA ou SUBCLASSE\n",
        "\n",
        "> Esse processo se dá pelo fato de que a classe filha herda os atributos e métodos da classe mãe\n",
        "\n",
        "Em Python, para dizer que uma classe será filha de outra, colocamos o nome da classe BASE dentro de parânteses junto ao nome da classe sendo criada (veja exemplo abaixo)\n",
        "\n",
        "No __init__ da classe FILHA temos que chamar o __init__ da classe MÃE para inicializar os atributos definidos lá (observe o exemplo abaixo)"
      ],
      "metadata": {
        "id": "8djIFs7tIp6b"
      }
    },
    {
      "cell_type": "markdown",
      "source": [
        "**Conta**"
      ],
      "metadata": {
        "id": "BRhvqy_uoUSG"
      }
    },
    {
      "cell_type": "code",
      "source": [
        "class Conta:\n",
        "\n",
        "  def __init__(self, num, valor = 0):\n",
        "    self.numero = num\n",
        "    self.saldo = valor\n",
        "    print(f'\\nConta número {self.numero} criada com sucesso')\n",
        "  \n",
        "  def __repr__(self):\n",
        "    return f'Conta número: {self.numero} Saldo: R$ {self.saldo}'\n",
        "\n",
        "  def deposito(self, valor):\n",
        "    self.saldo = self.saldo + valor\n",
        "    print(f'\\nDepósito realizado com sucesso. Saldo atual = {self.saldo}')\n",
        "  \n",
        "  def saque(self, valor):\n",
        "    if self.saldo >= valor:\n",
        "      self.saldo = self.saldo - valor\n",
        "      print(f'\\nSaque realizado com sucesso. Saldo atual = {self.saldo}')\n",
        "    else:\n",
        "      print('\\nSaldo insuficiente')"
      ],
      "metadata": {
        "id": "Ka6_Cpd2oUAr"
      },
      "execution_count": 1,
      "outputs": []
    },
    {
      "cell_type": "markdown",
      "source": [
        "**Conta corrente**"
      ],
      "metadata": {
        "id": "P2zu3Z0EPE2L"
      }
    },
    {
      "cell_type": "code",
      "metadata": {
        "id": "mFgP3xINrray"
      },
      "source": [
        "class Corrente(Conta):\n",
        "\n",
        "  def __init__(self, t, num, valor = 0):\n",
        "    Conta.__init__(self, num, valor) \n",
        "    self.tarifa = t\n",
        "\n",
        "  def debitaTarifa(self):\n",
        "    self.saldo = self.saldo - self.tarifa"
      ],
      "execution_count": 5,
      "outputs": []
    },
    {
      "cell_type": "code",
      "metadata": {
        "id": "hO49VLhPsr1t",
        "colab": {
          "base_uri": "https://localhost:8080/",
          "height": 0
        },
        "outputId": "dc3dd4f0-5a44-4f2b-bfda-8b33167d2b2d"
      },
      "source": [
        "cc1 = Corrente(49.90, 100234)\n",
        "print(cc1)"
      ],
      "execution_count": 6,
      "outputs": [
        {
          "output_type": "stream",
          "name": "stdout",
          "text": [
            "\n",
            "Conta número 100234 criada com sucesso\n",
            "Conta número: 100234 Saldo: R$ 0\n"
          ]
        }
      ]
    },
    {
      "cell_type": "code",
      "metadata": {
        "id": "fxh4BWPm21Uk",
        "colab": {
          "base_uri": "https://localhost:8080/",
          "height": 0
        },
        "outputId": "8439ffed-8a5c-448f-a9e1-03736c734dbd"
      },
      "source": [
        "cc1.deposito(1000)"
      ],
      "execution_count": 7,
      "outputs": [
        {
          "output_type": "stream",
          "name": "stdout",
          "text": [
            "\n",
            "Depósito realizado com sucesso. Saldo atual = 1000\n"
          ]
        }
      ]
    },
    {
      "cell_type": "code",
      "metadata": {
        "id": "OM3YFjTttnHo",
        "colab": {
          "base_uri": "https://localhost:8080/",
          "height": 0
        },
        "outputId": "5b1b771c-4196-4e69-ccdc-df4a34f178b4"
      },
      "source": [
        "cc1.saque(30)"
      ],
      "execution_count": 8,
      "outputs": [
        {
          "output_type": "stream",
          "name": "stdout",
          "text": [
            "\n",
            "Saque realizado com sucesso. Saldo atual = 970\n"
          ]
        }
      ]
    },
    {
      "cell_type": "markdown",
      "source": [
        "**Conta poupança**"
      ],
      "metadata": {
        "id": "WC7Hq-t1PBTc"
      }
    },
    {
      "cell_type": "code",
      "metadata": {
        "id": "46HvhCJct__4"
      },
      "source": [
        "class Poupanca(Conta):\n",
        "\n",
        "  def __init__(self, r, num, valor = 0):\n",
        "    Conta.__init__(self, num, valor)\n",
        "    self.rendimento = r\n",
        "\n",
        "  def creditarRendimento(self):\n",
        "    self.saldo = self.saldo + self.rendimento * self.saldo"
      ],
      "execution_count": 9,
      "outputs": []
    },
    {
      "cell_type": "code",
      "source": [
        "cp1 = Poupanca(0.05, 100987)\n",
        "print(cp1)"
      ],
      "metadata": {
        "colab": {
          "base_uri": "https://localhost:8080/",
          "height": 0
        },
        "id": "eFA5daxgO2xu",
        "outputId": "b1ab3cb4-fa44-4102-ca33-6af009e27abf"
      },
      "execution_count": 10,
      "outputs": [
        {
          "output_type": "stream",
          "name": "stdout",
          "text": [
            "\n",
            "Conta número 100987 criada com sucesso\n",
            "Conta número: 100987 Saldo: R$ 0\n"
          ]
        }
      ]
    },
    {
      "cell_type": "code",
      "metadata": {
        "id": "RpUOQRWAuz_c",
        "colab": {
          "base_uri": "https://localhost:8080/",
          "height": 0
        },
        "outputId": "451ac2c4-29f3-4972-a373-98fe7cbedd16"
      },
      "source": [
        "cp1.deposito(1000)"
      ],
      "execution_count": 11,
      "outputs": [
        {
          "output_type": "stream",
          "name": "stdout",
          "text": [
            "\n",
            "Depósito realizado com sucesso. Saldo atual = 1000\n"
          ]
        }
      ]
    },
    {
      "cell_type": "code",
      "metadata": {
        "id": "SASVvYD-useh"
      },
      "source": [
        "cp1.creditarRendimento()"
      ],
      "execution_count": 12,
      "outputs": []
    },
    {
      "cell_type": "code",
      "metadata": {
        "id": "0urRb7U8uv1Z",
        "colab": {
          "base_uri": "https://localhost:8080/",
          "height": 0
        },
        "outputId": "155be4be-bdf4-4904-fa56-ac519d7b07c4"
      },
      "source": [
        "print(cp1)"
      ],
      "execution_count": 13,
      "outputs": [
        {
          "output_type": "stream",
          "name": "stdout",
          "text": [
            "Conta número: 100987 Saldo: R$ 1050.0\n"
          ]
        }
      ]
    },
    {
      "cell_type": "markdown",
      "source": [
        "# Exercícios\n",
        "\n",
        "\n",
        "---\n",
        "\n"
      ],
      "metadata": {
        "id": "AN6t1ur6Uxt2"
      }
    },
    {
      "cell_type": "markdown",
      "source": [
        "**Questão 1.**\n",
        "\n",
        "Implemente uma classe Pessoa com os atributos: nome, email e telefone recebidos no `__init__`. Defina o método `__repr__` que mostre os atributos do objeto.\n",
        "\n",
        "Implemente duas classes filhas da classe Pessoa: Cliente e Funcionários. A classe Cliente terá o atributo pontos, enquanto Funcionário terá o atributo Salário. Defina `__repr__` nas classes filhas para acrescentar informação além das que são mostradas no `__repr__` da classe Pessoa.\n",
        "\n",
        "Crie objetos das classes criadas e teste o acesso aos atributos e métodos."
      ],
      "metadata": {
        "id": "HrtXmnlcX1LZ"
      }
    },
    {
      "cell_type": "code",
      "source": [
        "#Seu código aqui"
      ],
      "metadata": {
        "id": "5MK1zWQzjUp6"
      },
      "execution_count": null,
      "outputs": []
    },
    {
      "cell_type": "code",
      "source": [
        "#Exemplo de execução"
      ],
      "metadata": {
        "id": "q8oIR2FTX1VA",
        "colab": {
          "base_uri": "https://localhost:8080/",
          "height": 0
        },
        "outputId": "4f97b931-a384-4e84-ee9e-caa1cb41629d"
      },
      "execution_count": 17,
      "outputs": [
        {
          "output_type": "stream",
          "name": "stdout",
          "text": [
            "Nome: Ana Email: ana@email.com Telefone: 99998888 Pontos: 10\n",
            "Nome: Maria Email: maria@email.com Telefone: 998888777 Salário: 1000\n"
          ]
        }
      ]
    }
  ]
}
