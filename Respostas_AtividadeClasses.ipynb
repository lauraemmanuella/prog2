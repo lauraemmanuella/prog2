{
  "nbformat": 4,
  "nbformat_minor": 0,
  "metadata": {
    "colab": {
      "provenance": [],
      "authorship_tag": "ABX9TyPxSJ4RxLhOibRv/QUhAgus",
      "include_colab_link": true
    },
    "kernelspec": {
      "name": "python3",
      "display_name": "Python 3"
    },
    "language_info": {
      "name": "python"
    }
  },
  "cells": [
    {
      "cell_type": "markdown",
      "metadata": {
        "id": "view-in-github",
        "colab_type": "text"
      },
      "source": [
        "<a href=\"https://colab.research.google.com/github/lauraemmanuella/prog2/blob/main/Respostas_AtividadeClasses.ipynb\" target=\"_parent\"><img src=\"https://colab.research.google.com/assets/colab-badge.svg\" alt=\"Open In Colab\"/></a>"
      ]
    },
    {
      "cell_type": "markdown",
      "source": [
        "#Questão 1. \n",
        "> Crie uma classe em Python que represente um retângulo:\n",
        "\n",
        "1. Esse retângulo possuirá dois atributos: base e altura \n",
        "2. Defina métodos para obter a base, obter a altura e calcular a área do retângulo\n",
        "3. Implemente os métodos especiais init e repr. No init faça com que os atributos base e altura possam ser inicializados com parâmetros opcionais (valor default = 0). No repr apresente o estado do objeto (valor da base e da altura)\n",
        "4. Crie objetos dessa classe e teste seus métodos"
      ],
      "metadata": {
        "id": "VCKycC6fBB5j"
      }
    },
    {
      "cell_type": "code",
      "source": [
        "class Retangulo:\n",
        "\n",
        "  def __init__(self, b = 0, h = 0):\n",
        "    self.base = b\n",
        "    self.altura = h\n",
        "\n",
        "  def obter_base(self):\n",
        "    try:\n",
        "      self.base = float(input('Informe o valor da base do retângulo: '))\n",
        "    except:\n",
        "      print('Base deve ser um número')\n",
        "  \n",
        "  def obter_altura(self):\n",
        "    try: \n",
        "      self.altura = float(input('Informe o valor da altura do retângulo: '))\n",
        "    except:\n",
        "      print('Altura deve ser um número')\n",
        "\n",
        "  def calcular_area(self):\n",
        "    area = self.base * self.altura\n",
        "    print(f'Área = {area} ')\n",
        "  \n",
        "  def __repr__(self):\n",
        "    return f'Base = {self.base} Altura = {self.altura}'"
      ],
      "metadata": {
        "id": "mjUSbHRKBA-r"
      },
      "execution_count": null,
      "outputs": []
    },
    {
      "cell_type": "code",
      "source": [
        "#TESTANDO A CLASSE\n",
        "r1 = Retangulo()\n",
        "r1.obter_base()\n",
        "r1.obter_altura()\n",
        "r1.calcular_area()\n",
        "print(r1)"
      ],
      "metadata": {
        "colab": {
          "base_uri": "https://localhost:8080/"
        },
        "id": "vor5inaiHtD4",
        "outputId": "a7a226c8-9812-4f73-8cbb-ae0af95ad198"
      },
      "execution_count": null,
      "outputs": [
        {
          "output_type": "stream",
          "name": "stdout",
          "text": [
            "Informe o valor da base do retângulo: 3\n",
            "Informe o valor da altura do retângulo: 2\n",
            "Área = 6.0 \n",
            "Base = 3.0 Altura = 2.0\n"
          ]
        }
      ]
    },
    {
      "cell_type": "code",
      "source": [
        "#TESTANDO A CLASSE\n",
        "r2 = Retangulo(23, 4)\n",
        "r2.calcular_area()\n",
        "print(r2)"
      ],
      "metadata": {
        "colab": {
          "base_uri": "https://localhost:8080/"
        },
        "id": "KFT7GK7TIA1w",
        "outputId": "94e4e403-7596-4b51-96d7-1f94062a71fd"
      },
      "execution_count": null,
      "outputs": [
        {
          "output_type": "stream",
          "name": "stdout",
          "text": [
            "Área = 92 \n",
            "Base = 23 Altura = 4\n"
          ]
        }
      ]
    },
    {
      "cell_type": "markdown",
      "source": [
        "#Questão 2.\n",
        "\n",
        "> Crie uma classe que represente um ponto matemático:\n",
        "\n",
        "1. Esse ponto possuirá dois atributos: X e Y\n",
        "2. Defina métodos para pedir sua coordenada x (getX), pedir sua coordenada y (getY), calcular a distância de um ponto para a origem. \n",
        "3. Implemente os métodos especiais init e repr. No init faça com que os atributos X e Y possam ser inicializados com parâmetros opcionais (valor default = 0). No repr apresente o estado do objeto no formato: (X, Y)\n"
      ],
      "metadata": {
        "id": "QaVam_tgA4x7"
      }
    },
    {
      "cell_type": "code",
      "source": [
        "class Ponto:\n",
        "\n",
        "  def __init__(self, x = 0, y = 0):\n",
        "    self.X = x\n",
        "    self.Y = y\n",
        "\n",
        "  def getX(self):\n",
        "    try:\n",
        "      self.X = float(input('Informe a coordenada X:'))\n",
        "    except:\n",
        "      print('A coordenada deve ser um número')\n",
        "      self.getX()\n",
        "  \n",
        "  def getY(self):\n",
        "    try:\n",
        "      self.Y = float(input('Informe a coordenada Y:'))\n",
        "    except:\n",
        "      print('A coordenada deve ser um número')\n",
        "      self.getY()\n",
        "\n",
        "  def distancia_origem(self):\n",
        "    d = (self.X ** 2 + self.Y ** 2) ** 0.5\n",
        "    print(f'A distância para a origem é {d:.2f}')\n",
        "  \n",
        "  def __repr__(self):\n",
        "    return f'({self.X},{self.Y})'"
      ],
      "metadata": {
        "id": "BFXzOFIkA59c"
      },
      "execution_count": null,
      "outputs": []
    },
    {
      "cell_type": "code",
      "source": [
        "#TESTANDO A CLASSE\n",
        "p1 = Ponto()\n",
        "p1.getX()\n",
        "p1.getY()\n",
        "p1.distancia_origem()\n",
        "print(p1)"
      ],
      "metadata": {
        "colab": {
          "base_uri": "https://localhost:8080/"
        },
        "id": "uF6XwiGkILdu",
        "outputId": "6a0c69d9-1648-4ccc-9e19-667a57679038"
      },
      "execution_count": null,
      "outputs": [
        {
          "output_type": "stream",
          "name": "stdout",
          "text": [
            "Informe a coordenada X:3\n",
            "Informe a coordenada Y:3\n",
            "A distância para a origem é 4.24\n",
            "(3.0,3.0)\n"
          ]
        }
      ]
    },
    {
      "cell_type": "code",
      "source": [
        "#TESTANDO A CLASSE\n",
        "p2 = Ponto(2,2)\n",
        "p2.distancia_origem()\n",
        "print(p2)"
      ],
      "metadata": {
        "colab": {
          "base_uri": "https://localhost:8080/"
        },
        "id": "aX3GL-w8IZCt",
        "outputId": "38b59746-39c9-4670-86ea-29b9a43a6254"
      },
      "execution_count": null,
      "outputs": [
        {
          "output_type": "stream",
          "name": "stdout",
          "text": [
            "A distância para a origem é 2.83\n",
            "(2,2)\n"
          ]
        }
      ]
    },
    {
      "cell_type": "markdown",
      "source": [
        "#Questão 3.\n",
        "\n",
        "> Crie uma classe Televisão em Python que possua dois atributos: canal e volume. \n",
        "\n",
        "Essa classe deve possuir métodos que sirvam para acessar e modificar os valores de canal e volume em uma unidade cada vez. Implemente os métodos especiais init e repr para inicializar com valores default vindos de parâmetros opcionais e apresentar o estado do objeto, respectivamente.\n"
      ],
      "metadata": {
        "id": "T79QpLPhA9E7"
      }
    },
    {
      "cell_type": "code",
      "execution_count": null,
      "metadata": {
        "id": "HQmFfLyoAwEy"
      },
      "outputs": [],
      "source": [
        "class Televisao:\n",
        "\n",
        "  def __init__(self, c = 8, v = 10):\n",
        "    self.canal = c\n",
        "    self.volume = v\n",
        "  \n",
        "  def aumentar_canal(self):\n",
        "    if self.canal == 100: #ultimo canal valido\n",
        "      self.canal = 1 #volta para o primeiro\n",
        "    else:\n",
        "      self.canal += 1\n",
        "  \n",
        "  def diminuir_canal(self):\n",
        "    if self.canal == 1:\n",
        "      self.canal = 100\n",
        "    else:\n",
        "      self.canal -= 1\n",
        "  \n",
        "  def aumentar_volume(self):\n",
        "    if self.volume < 100:\n",
        "      self.volume += 1\n",
        "  \n",
        "  def diminuir_volume(self):\n",
        "    if self.volume > 0:\n",
        "      self.volume -= 1\n",
        "  \n",
        "  def __repr__(self):\n",
        "    return f'Canal = {self.canal} Volume = {self.volume}'"
      ]
    },
    {
      "cell_type": "code",
      "source": [
        "#TESTANDO A CLASSE\n",
        "tvsala = Televisao()\n",
        "tvsala.aumentar_volume()\n",
        "tvsala.diminuir_canal()\n",
        "print(tvsala)\n",
        "\n",
        "tvcozinha = Televisao(11, 25)\n",
        "tvcozinha.aumentar_volume()\n",
        "tvcozinha.diminuir_canal()\n",
        "print(tvcozinha)"
      ],
      "metadata": {
        "colab": {
          "base_uri": "https://localhost:8080/"
        },
        "id": "8lcIhFQbBO2u",
        "outputId": "9f31e4b5-8bd3-4aca-ddf6-e2805a819531"
      },
      "execution_count": null,
      "outputs": [
        {
          "output_type": "stream",
          "name": "stdout",
          "text": [
            "Canal = 7 Volume = 11\n",
            "Canal = 10 Volume = 26\n"
          ]
        }
      ]
    },
    {
      "cell_type": "markdown",
      "source": [
        "#Questão 4.\n",
        "\n",
        "[Associação entre classes] Implemente uma classe Ambiente com atributos: quantidade de linhas e quantidade de colunas, informados no __init__ (obrigatórios). Essa classe só precisa ter os métodos __init__ e __repr__. \n",
        "\n",
        "Implemente também uma classe Robô que recebe como parâmetros iniciais um valor para seu atributo nome e um objeto de Ambiente para seu atributo lugar. O Robô terá também como atributos sua posição X e Y que começam como 0. O robô terá como métodos: andar para frente, andar para trás, andar para direita e andar para esquerda, onde em cada uma dessas funções o robô se locomove em 1 unidade nas linhas ou nas colunas:\n",
        "\n",
        "* andarFrente >> faz com que o robô ande 1 linha\n",
        "* andarTras >> faz com que o robô volte 1 linha\n",
        "* andarDireita >> faz com que o robô ande 1 coluna\n",
        "* andarEsquerda >> faz com que o robô volte 1 coluna\n"
      ],
      "metadata": {
        "id": "8c6-aiinGpDg"
      }
    },
    {
      "cell_type": "code",
      "source": [
        "class Ambiente:\n",
        "\n",
        "  def __init__(self):\n",
        "    self.qtdcolunas = int(input('Informe a largura do ambiente: '))\n",
        "    self.qtdlinhas = int(input('Informe o comprimento do ambiente: '))\n",
        "  \n",
        "  def __repr__(self):\n",
        "    return f'Ambiente com dimensão (L x C): {self.qtdcolunas} x {self.qtdlinhas}'"
      ],
      "metadata": {
        "id": "L77iD4Nd6jLD"
      },
      "execution_count": null,
      "outputs": []
    },
    {
      "cell_type": "code",
      "source": [
        "#CRIANDO UM OBJETO DO TIPO AMBIENTE\n",
        "ligC = Ambiente()\n",
        "print(ligC)"
      ],
      "metadata": {
        "id": "BAFrCuVG8_v2",
        "outputId": "65828cb5-a9fa-41a7-c73e-afd881ba7326",
        "colab": {
          "base_uri": "https://localhost:8080/"
        }
      },
      "execution_count": null,
      "outputs": [
        {
          "output_type": "stream",
          "name": "stdout",
          "text": [
            "Informe a largura do ambiente: 10\n",
            "Informe o comprimento do ambiente: 12\n",
            "Ambiente com dimensão (L x C): 10 x 12\n"
          ]
        }
      ]
    },
    {
      "cell_type": "code",
      "source": [
        "class Robo:\n",
        "\n",
        "  def __init__(self, a): #esse parâmetro a deve ser um objeto do tipo Ambiente\n",
        "    self.nome = input('Informe o nome do Robo: ')\n",
        "    self.lugar = a #objeto da classe Ambiente\n",
        "    self.x = 0 #posição do robô no eixo x do ambiente\n",
        "    self.y = 0 #posição do robô no eixo y do ambiente\n",
        "  \n",
        "  def verposicao(self):\n",
        "    print(f'({self.x}, {self.y})')\n",
        "\n",
        "  def andarFrente(self):\n",
        "    if self.y == self.lugar.qtdlinhas:\n",
        "      print('Parede a frente')\n",
        "    else:\n",
        "      self.y += 1\n",
        "  \n",
        "  def andarTras(self):\n",
        "    if self.y == 0:\n",
        "      print('Parede atras')\n",
        "    else:\n",
        "      self.y -= 1\n",
        "  \n",
        "  def andarDireita(self):\n",
        "    if self.x == self.lugar.qtdcolunas:\n",
        "      print('Parede a direita')\n",
        "    else:\n",
        "      self.x += 1\n",
        "    \n",
        "  def andarEsquerda(self):\n",
        "    if self.x == 0:\n",
        "      print('Parede a esquerda')\n",
        "    else:\n",
        "      self.x -= 1\n",
        "  \n",
        "  def __repr__(self):\n",
        "    return f'Meu nome é {self.nome}. Estou na posição ({self.x}, {self.y}) do ambiente'\n",
        "\n",
        "  def menu(self):\n",
        "    while True:\n",
        "      print('\\n1-Ver Posiçao do Robô')\n",
        "      print('2-Andar para frente')\n",
        "      print('3-Andar para trás')\n",
        "      print('4-Andar para direita')\n",
        "      print('5-Andar para esquerda')\n",
        "      print('6-Sair')\n",
        "      try:\n",
        "        opcao = int(input('\\n'))\n",
        "      except:\n",
        "        print('Informe um número entre 1 e 6')\n",
        "      else:\n",
        "        if opcao == 1:\n",
        "          self.verposicao()\n",
        "        elif opcao == 2:\n",
        "          self.andarFrente()\n",
        "        elif opcao == 3:\n",
        "          self.andarTras()\n",
        "        elif opcao == 4:\n",
        "          self.andarDireita()\n",
        "        elif opcao == 5:\n",
        "          self.andarEsquerda()\n",
        "        elif opcao == 6:\n",
        "          break"
      ],
      "metadata": {
        "id": "i8hX3bjL9UEH"
      },
      "execution_count": null,
      "outputs": []
    },
    {
      "cell_type": "code",
      "source": [
        "mig = Robo(ligC) #criação do objeto Robo\n",
        "mig.menu() #executa o menu do Robo"
      ],
      "metadata": {
        "id": "NagRUMRIGPyx",
        "outputId": "f7a1cf41-5a3d-4ff5-a70c-b1666fbb7fa6",
        "colab": {
          "base_uri": "https://localhost:8080/"
        }
      },
      "execution_count": null,
      "outputs": [
        {
          "name": "stdout",
          "output_type": "stream",
          "text": [
            "Informe o nome do Robo: Mig\n",
            "\n",
            "1-Ver Posiçao do Robô\n",
            "2-Andar para frente\n",
            "3-Andar para trás\n",
            "4-Andar para direita\n",
            "5-Andar para esquerda\n",
            "6-Sair\n",
            "\n",
            "1\n",
            "(0, 0)\n",
            "\n",
            "1-Ver Posiçao do Robô\n",
            "2-Andar para frente\n",
            "3-Andar para trás\n",
            "4-Andar para direita\n",
            "5-Andar para esquerda\n",
            "6-Sair\n",
            "\n",
            "3\n",
            "Parede atras\n",
            "\n",
            "1-Ver Posiçao do Robô\n",
            "2-Andar para frente\n",
            "3-Andar para trás\n",
            "4-Andar para direita\n",
            "5-Andar para esquerda\n",
            "6-Sair\n",
            "\n",
            "2\n",
            "\n",
            "1-Ver Posiçao do Robô\n",
            "2-Andar para frente\n",
            "3-Andar para trás\n",
            "4-Andar para direita\n",
            "5-Andar para esquerda\n",
            "6-Sair\n",
            "\n",
            "1\n",
            "(0, 1)\n",
            "\n",
            "1-Ver Posiçao do Robô\n",
            "2-Andar para frente\n",
            "3-Andar para trás\n",
            "4-Andar para direita\n",
            "5-Andar para esquerda\n",
            "6-Sair\n",
            "\n",
            "6\n"
          ]
        }
      ]
    },
    {
      "cell_type": "markdown",
      "source": [
        "#Questão 5\n",
        "\n",
        "[Associação entre classes] Crie uma classe Atleta com os atributos: nome, peso, altura, IMC e situação. Receba os atributos nome, peso e altura no __init__. \n",
        "\n",
        "Defina um método chamado analisar que calcule o IMC do atleta, peso / (altura * altura), e defina sua situação: Abaixo do peso (se o IMC do atleta for menor que 18.5), Ideal (Se o IMC do atleta estiver entre 18.5 e 25) ou Sobrepeso (se o IMC do atleta for maior que 25). \n",
        "\n",
        "O método analisar deve ser chamado no __init__ da classe Atleta. Crie uma classe Academia com uma lista de Atletas vazia definida no __init__. Defina um método chamado menu com as opções:\n",
        "\n",
        "1. Cadastrar Atleta\n",
        "2. Verificar situação do Atleta\n",
        "3. Sair\n"
      ],
      "metadata": {
        "id": "v3M1zJFKjwx-"
      }
    },
    {
      "cell_type": "code",
      "source": [
        "class Atleta:\n",
        "\n",
        "  def __init__(self, n, a, p):\n",
        "    self.nome = n\n",
        "    self.altura = a\n",
        "    self.peso = p  \n",
        "    self.analisar() #chamando método da mesma classe\n",
        "  \n",
        "  def analisar(self):\n",
        "    self.imc = self.peso / (self.altura * self.altura)\n",
        "\n",
        "    if self.imc > 25:\n",
        "      self.situacao = 'Sobrepeso'\n",
        "    elif self.imc >= 18.5: \n",
        "      self.situacao = 'Peso ideal'\n",
        "    else:\n",
        "      self.situacao = 'Abaixo do peso'\n",
        "\n",
        "  def __repr__(self):\n",
        "    return f'\\nNome: {self.nome}\\nAltura: {self.altura}\\nPeso: {self.peso}\\nIMC: {self.imc:.2f}\\nSituação: {self.situacao}'\n",
        "\n",
        "\n",
        "class Academia:\n",
        "\n",
        "  def __init__(self):\n",
        "    self.atletas = [] #Começa a lista vazia\n",
        "\n",
        "  def cadastrar(self):\n",
        "    nome = input('Informe o nome do Atleta: ')\n",
        "    while True:\n",
        "      try:\n",
        "        altura = float(input('Informe a altura do Atleta: '))\n",
        "        peso = float(input('Informe o peso do Atleta: ')) \n",
        "      except:\n",
        "        print('\\nAltura e Peso devem ser números')\n",
        "      else:\n",
        "        break\n",
        "    atleta = Atleta(nome, altura, peso)\n",
        "    self.atletas.append(atleta)\n",
        "\n",
        "  def verificar_situacao(self):\n",
        "    nome = input('Informe o nome do Atleta: ')\n",
        "    for i in self.atletas:\n",
        "      if i.nome.upper() == nome.upper():\n",
        "        print(i) \n",
        "        break\n",
        "    else: #else loops\n",
        "      print('Atleta não encontrado')\n",
        "\n",
        "  def menu(self):\n",
        "    opcao = 0\n",
        "    while opcao != 3:\n",
        "      print('\\n1-Cadastrar Atleta\\n2-Verificar Situação de Atleta\\n3-Sair\\n') \n",
        "      try:\n",
        "        opcao = int(input('Informe a opção desejada: '))\n",
        "      except:\n",
        "        print('\\nOpção deve ser um número entre 1 e 3')\n",
        "      if opcao == 1:\n",
        "        self.cadastrar()\n",
        "      elif opcao == 2:\n",
        "        self.verificar_situacao()\n",
        "      elif opcao == 3:\n",
        "        break\n",
        "      else:\n",
        "        print('Opcao Invalida')"
      ],
      "metadata": {
        "id": "uIMqUCWTZTbr"
      },
      "execution_count": null,
      "outputs": []
    },
    {
      "cell_type": "code",
      "source": [
        "#TESTANDO A ACADEMIA\n",
        "fitness = Academia()\n",
        "fitness.menu()"
      ],
      "metadata": {
        "id": "gsNuZCalj62P"
      },
      "execution_count": null,
      "outputs": []
    }
  ]
}