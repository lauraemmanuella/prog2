{
  "nbformat": 4,
  "nbformat_minor": 0,
  "metadata": {
    "colab": {
      "name": "Revisão.ipynb",
      "provenance": [],
      "collapsed_sections": [],
      "authorship_tag": "ABX9TyOIsDnx+3ctWjD8S7vWcIg4",
      "include_colab_link": true
    },
    "kernelspec": {
      "name": "python3",
      "display_name": "Python 3"
    },
    "language_info": {
      "name": "python"
    }
  },
  "cells": [
    {
      "cell_type": "markdown",
      "metadata": {
        "id": "view-in-github",
        "colab_type": "text"
      },
      "source": [
        "<a href=\"https://colab.research.google.com/github/lauraemmanuella/prog2/blob/main/Revis%C3%A3o.ipynb\" target=\"_parent\"><img src=\"https://colab.research.google.com/assets/colab-badge.svg\" alt=\"Open In Colab\"/></a>"
      ]
    },
    {
      "cell_type": "markdown",
      "source": [
        "# Revisão\n",
        "\n",
        "---\n",
        "\n",
        "Objetivo: Rever funções, listas, strings, módulos, laços e condições.\n",
        "\n",
        "\n",
        "Notebooks para revisão (nb1 a nb9): https://github.com/lauraemmanuella/prog1\n",
        "\n",
        "---\n",
        "\n"
      ],
      "metadata": {
        "id": "myap23sDryD5"
      }
    },
    {
      "cell_type": "markdown",
      "source": [
        "**Questão 1:** Defina uma função chamada `lista_aleatoria` com 3 parâmetros opcionais: `tam, min e max`, com valores default `10, 1 e 10`, respectivamente. Essa função deverá **criar uma lista com tam valores aletórios entre min e max**. A função deverá retornar a lista criada."
      ],
      "metadata": {
        "id": "1p2Rjx2lu7ym"
      }
    },
    {
      "cell_type": "code",
      "execution_count": null,
      "metadata": {
        "id": "YWxg_UxWpwo_"
      },
      "outputs": [],
      "source": [
        "#defina sua função aqui"
      ]
    },
    {
      "cell_type": "markdown",
      "source": [
        "**Questão 1A:** Execute a função sem passar nenhum argumento para os parâmetros e mostre a lista retornada."
      ],
      "metadata": {
        "id": "3S9q7pixvqig"
      }
    },
    {
      "cell_type": "code",
      "source": [
        "#seu código aqui"
      ],
      "metadata": {
        "id": "Tt2js2G86i7W"
      },
      "execution_count": null,
      "outputs": []
    },
    {
      "cell_type": "code",
      "source": [
        "#exemplo de execução"
      ],
      "metadata": {
        "colab": {
          "base_uri": "https://localhost:8080/"
        },
        "id": "leqbLLTmqe8d",
        "outputId": "dffe61de-4164-4390-bad9-a975aa92a558"
      },
      "execution_count": null,
      "outputs": [
        {
          "output_type": "stream",
          "name": "stdout",
          "text": [
            "[3, 8, 10, 8, 2, 4, 8, 5, 8, 5]\n"
          ]
        }
      ]
    },
    {
      "cell_type": "markdown",
      "source": [
        "**Questão 1B:** Execute a função para que ela retorne uma lista com 5 elementos entre 10 e 100."
      ],
      "metadata": {
        "id": "Wl_FgGeAv3Lp"
      }
    },
    {
      "cell_type": "code",
      "source": [
        "#seu código aqui"
      ],
      "metadata": {
        "id": "4ktliT4l6m-M"
      },
      "execution_count": null,
      "outputs": []
    },
    {
      "cell_type": "code",
      "source": [
        "#exemplo de execução"
      ],
      "metadata": {
        "colab": {
          "base_uri": "https://localhost:8080/"
        },
        "id": "tKVDFTWzqlH3",
        "outputId": "5511e884-8070-4e3f-97f2-2eab40e13033"
      },
      "execution_count": null,
      "outputs": [
        {
          "output_type": "stream",
          "name": "stdout",
          "text": [
            "[74, 32, 24, 98, 49]\n"
          ]
        }
      ]
    },
    {
      "cell_type": "markdown",
      "source": [
        "**Questão 1C:** Execute a função para que ela retorne uma lista com o tamanho padrão e valores entre 100 e 200"
      ],
      "metadata": {
        "id": "LeYhROzEv-FQ"
      }
    },
    {
      "cell_type": "code",
      "source": [
        "#seu código aqui"
      ],
      "metadata": {
        "id": "aRtbi8nX6oCK"
      },
      "execution_count": null,
      "outputs": []
    },
    {
      "cell_type": "code",
      "source": [
        "#exemplo de execução"
      ],
      "metadata": {
        "colab": {
          "base_uri": "https://localhost:8080/"
        },
        "id": "_FFZMC7Gqyq5",
        "outputId": "d0f0a543-9494-4639-93ad-a8c8df3b291a"
      },
      "execution_count": null,
      "outputs": [
        {
          "output_type": "stream",
          "name": "stdout",
          "text": [
            "[106, 119, 126, 186, 157, 124, 163, 187, 190, 143]\n"
          ]
        }
      ]
    },
    {
      "cell_type": "markdown",
      "source": [
        "**Questão 2:** Defina uma função chamada `senha_maluca` que receba uma frase como parâmetro. Essa função **deverá gerar uma senha composta pelos caracteres do meio de cada palavra da frase**. Faça com que aleatoriamente seja definido se cada um desses caracteres será maiúsculo ou minúsculo. Observe o exemplo de execução."
      ],
      "metadata": {
        "id": "A-J2LAfarylx"
      }
    },
    {
      "cell_type": "code",
      "source": [
        "#defina sua função aqui"
      ],
      "metadata": {
        "id": "6l9zoDQk6pNr"
      },
      "execution_count": null,
      "outputs": []
    },
    {
      "cell_type": "code",
      "source": [
        "#exemplo de execução\n",
        "senha_maluca('Senha da turma de programação computacional 2')"
      ],
      "metadata": {
        "colab": {
          "base_uri": "https://localhost:8080/",
          "height": 35
        },
        "id": "ujFvboP2sIGY",
        "outputId": "25512108-5c79-4812-c369-1ad82c92d0b4"
      },
      "execution_count": null,
      "outputs": [
        {
          "output_type": "execute_result",
          "data": {
            "text/plain": [
              "'NAreaA2'"
            ],
            "application/vnd.google.colaboratory.intrinsic+json": {
              "type": "string"
            }
          },
          "metadata": {},
          "execution_count": 14
        }
      ]
    },
    {
      "cell_type": "code",
      "source": [
        "#exemplo de execução\n",
        "senha_maluca('Senha para teste')"
      ],
      "metadata": {
        "colab": {
          "base_uri": "https://localhost:8080/",
          "height": 35
        },
        "id": "8sd8qyz8w7EX",
        "outputId": "a36b6b6d-48ab-4c9e-89d7-f8e549302c7d"
      },
      "execution_count": null,
      "outputs": [
        {
          "output_type": "execute_result",
          "data": {
            "text/plain": [
              "'nRS'"
            ],
            "application/vnd.google.colaboratory.intrinsic+json": {
              "type": "string"
            }
          },
          "metadata": {},
          "execution_count": 15
        }
      ]
    },
    {
      "cell_type": "markdown",
      "source": [
        "**Questão 2A:** Agora defina uma função chamada `valida_senha_maluca` que receba dois parâmetros: uma senha e um tamanho. O tamanho default será 6. Caso o tamanho da senha seja menor que o tamanho definido, a função deverá preencher a senha com caracteres aleatórios até o tamanho definido.\n",
        "\n",
        "Para fazer essa questão, podemos usar os módulos string e random.\n",
        "Observe abaixo que o módulo string possui uma constante chamada ascii_letters que retorna uma string com todas as letras minúsculas e maiúsculas. Podemos então usar a função choice do módulo random para escolher aleatoriamente qualquer caractere."
      ],
      "metadata": {
        "id": "aYeiF7mP2sCX"
      }
    },
    {
      "cell_type": "code",
      "source": [
        "#módulos string e random\n",
        "import string\n",
        "import random\n",
        "\n",
        "letras = string.ascii_letters #essa constante retorna todas as letras\n",
        "print(letras)\n",
        "\n",
        "caractere = random.choice(letras) #a função choice escolhe um elemento qualquer dentro da sequência informada\n",
        "print(f'\\nLetra escolhida aleatoriamente: {caractere}') "
      ],
      "metadata": {
        "colab": {
          "base_uri": "https://localhost:8080/"
        },
        "id": "B2TniOjWxTSV",
        "outputId": "f8874eb5-d56e-4adc-ae76-bac168d4cb48"
      },
      "execution_count": null,
      "outputs": [
        {
          "output_type": "stream",
          "name": "stdout",
          "text": [
            "abcdefghijklmnopqrstuvwxyzABCDEFGHIJKLMNOPQRSTUVWXYZ\n",
            "\n",
            "Letra escolhida aleatoriamente: A\n"
          ]
        }
      ]
    },
    {
      "cell_type": "code",
      "source": [
        "#defina sua função aqui"
      ],
      "metadata": {
        "id": "3QSQJaWexG5w"
      },
      "execution_count": null,
      "outputs": []
    },
    {
      "cell_type": "code",
      "source": [
        "#exemplo de execução\n",
        "senha = senha_maluca('Senha para teste')\n",
        "print(senha)\n",
        "print(valida_senha_maluca(senha))"
      ],
      "metadata": {
        "colab": {
          "base_uri": "https://localhost:8080/"
        },
        "id": "4gwIIgDZ2Ut2",
        "outputId": "6be339f5-9d9c-4f67-8411-364e1226eb66"
      },
      "execution_count": null,
      "outputs": [
        {
          "output_type": "stream",
          "name": "stdout",
          "text": [
            "nrS\n",
            "nrSwBb\n"
          ]
        }
      ]
    },
    {
      "cell_type": "code",
      "source": [
        "#exemplo de execução\n",
        "senha = senha_maluca('Senha da turma de programação computacional 2')\n",
        "print(senha)\n",
        "print(valida_senha_maluca(senha))"
      ],
      "metadata": {
        "colab": {
          "base_uri": "https://localhost:8080/"
        },
        "id": "re3Q-bW047wB",
        "outputId": "c6b62113-bcfc-451e-fb46-b36a133cfe72"
      },
      "execution_count": null,
      "outputs": [
        {
          "output_type": "stream",
          "name": "stdout",
          "text": [
            "nareAA2\n",
            "nareAA2\n"
          ]
        }
      ]
    }
  ]
}